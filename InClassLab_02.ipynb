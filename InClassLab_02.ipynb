{
  "nbformat": 4,
  "nbformat_minor": 0,
  "metadata": {
    "colab": {
      "name": "InClassLab_02.ipynb",
      "provenance": []
    },
    "kernelspec": {
      "name": "python3",
      "display_name": "Python 3"
    }
  },
  "cells": [
    {
      "cell_type": "code",
      "metadata": {
        "id": "aIZs76FWYUdg"
      },
      "source": [
        "# Generate noisy data samples from linear function y = 3x + 4"
      ],
      "execution_count": 1,
      "outputs": []
    },
    {
      "cell_type": "code",
      "metadata": {
        "id": "8Hrcg7DCYtdk"
      },
      "source": [
        "import numpy as np\r\n",
        "import matplotlib.pyplot as plt\r\n",
        "%matplotlib inline"
      ],
      "execution_count": 11,
      "outputs": []
    },
    {
      "cell_type": "code",
      "metadata": {
        "id": "OEImDHA1YwMf"
      },
      "source": [
        "num_samples =100\r\n",
        "x = np.random.rand(num_samples,1)\r\n",
        "#https://numpy.org/doc/stable/reference/random/generated/numpy.random.rand.html"
      ],
      "execution_count": 6,
      "outputs": []
    },
    {
      "cell_type": "code",
      "metadata": {
        "id": "ohsPMQbSY4IM"
      },
      "source": [
        "y = 3*x+4\r\n",
        "noise = np.random.randn(num_samples,1)"
      ],
      "execution_count": 9,
      "outputs": []
    },
    {
      "cell_type": "code",
      "metadata": {
        "id": "AMeqeJM4ZF65"
      },
      "source": [
        "y_withNoise = y + noise"
      ],
      "execution_count": 10,
      "outputs": []
    },
    {
      "cell_type": "code",
      "metadata": {
        "colab": {
          "base_uri": "https://localhost:8080/",
          "height": 313
        },
        "id": "OUJ0gzE7ZcYq",
        "outputId": "d4b58d7a-7ca2-43c6-d5fb-b69413ee4226"
      },
      "source": [
        "# 2. Visualize our data\r\n",
        "plt.plot(x,y,'r*')\r\n",
        "plt.plot(x,y_withNoise,'b*')\r\n",
        "plt.xlabel('Feature')\r\n",
        "plt.ylabel('Target value')\r\n",
        "plt.title('Fake data')"
      ],
      "execution_count": 17,
      "outputs": [
        {
          "output_type": "execute_result",
          "data": {
            "text/plain": [
              "Text(0.5, 1.0, 'Fake data')"
            ]
          },
          "metadata": {
            "tags": []
          },
          "execution_count": 17
        },
        {
          "output_type": "display_data",
          "data": {
            "image/png": "[encoded data removed]",
            "text/plain": [
              "<Figure size 432x288 with 1 Axes>"
            ]
          },
          "metadata": {
            "tags": [],
            "needs_background": "light"
          }
        }
      ]
    },
    {
      "cell_type": "code",
      "metadata": {
        "id": "hFe_5Ko_apXW"
      },
      "source": [
        "# 3. Create training and test data\r\n",
        "from sklearn.model_selection import train_test_split\r\n",
        "#https://scikit-learn.org/stable/modules/generated/sklearn.model_selection.train_test_split.html"
      ],
      "execution_count": 18,
      "outputs": []
    },
    {
      "cell_type": "code",
      "metadata": {
        "colab": {
          "base_uri": "https://localhost:8080/"
        },
        "id": "gIBCoOlrawKl",
        "outputId": "f264c1eb-b3f5-4b08-cc2f-f6d0fdc2c730"
      },
      "source": [
        "X_train,X_test,y_train,y_test = train_test_split(x,y_withNoise,test_size=0.2, random_state=2) # X_train -- feature matrix, y_train -- traget_vector\r\n",
        "print(\"Number of samples in training set is: \",len(X_train))\r\n",
        "print(\"Number of samples in test set is: \",len(X_test))"
      ],
      "execution_count": 22,
      "outputs": [
        {
          "output_type": "stream",
          "text": [
            "Number of samples in training set is:  80\n",
            "Number of samples in test set is:  20\n"
          ],
          "name": "stdout"
        }
      ]
    },
    {
      "cell_type": "code",
      "metadata": {
        "id": "rBdvtUSMcDMo"
      },
      "source": [
        "# 4. Train a linear regression model\r\n",
        "from sklearn import linear_model\r\n",
        "\r\n",
        "lr_model = linear_model.LinearRegression()"
      ],
      "execution_count": 23,
      "outputs": []
    },
    {
      "cell_type": "code",
      "metadata": {
        "colab": {
          "base_uri": "https://localhost:8080/"
        },
        "id": "3h6b-fgreI_Y",
        "outputId": "1417061c-ec9b-42ce-bdf2-ac69e9621228"
      },
      "source": [
        "lr_model.fit(X_train,y_train)\r\n",
        "print('Slope/Coefficient ',lr_model.coef_)\r\n",
        "print('Intercept ',lr_model.intercept_)"
      ],
      "execution_count": 24,
      "outputs": [
        {
          "output_type": "stream",
          "text": [
            "Slope/Coefficient  [[3.27768799]]\n",
            "Intercept  [3.77614018]\n"
          ],
          "name": "stdout"
        }
      ]
    },
    {
      "cell_type": "code",
      "metadata": {
        "id": "Tztrcn7Xetqh"
      },
      "source": [
        "y_predict =lr_model.coef_*X_test + lr_model.intercept_"
      ],
      "execution_count": 25,
      "outputs": []
    },
    {
      "cell_type": "code",
      "metadata": {
        "colab": {
          "base_uri": "https://localhost:8080/",
          "height": 283
        },
        "id": "kBsUSSRSe6IZ",
        "outputId": "ca0b5832-f274-4bb0-a7cf-15bb6037d10f"
      },
      "source": [
        "plt.plot(X_test,y_test,'b.')\r\n",
        "plt.plot(X_test,y_predict)"
      ],
      "execution_count": 27,
      "outputs": [
        {
          "output_type": "execute_result",
          "data": {
            "text/plain": [
              "[<matplotlib.lines.Line2D at 0x7f8ba7c89160>]"
            ]
          },
          "metadata": {
            "tags": []
          },
          "execution_count": 27
        },
        {
          "output_type": "display_data",
          "data": {
            "image/png": "[encoded data removed]",
            "text/plain": [
              "<Figure size 432x288 with 1 Axes>"
            ]
          },
          "metadata": {
            "tags": [],
            "needs_background": "light"
          }
        }
      ]
    },
    {
      "cell_type": "code",
      "metadata": {
        "id": "qhBppGfVfEG_"
      },
      "source": [
        "# 7. Evaluate model performance on test dataset"
      ],
      "execution_count": 28,
      "outputs": []
    },
    {
      "cell_type": "code",
      "metadata": {
        "colab": {
          "base_uri": "https://localhost:8080/"
        },
        "id": "7H9_Z31AfaSq",
        "outputId": "b952b7d7-089a-4405-e7ba-d300ecc08055"
      },
      "source": [
        "from sklearn.metrics import mean_absolute_error\r\n",
        "print(\"Mean Absolute Error is:\", mean_absolute_error(y_test,y_predict))"
      ],
      "execution_count": 31,
      "outputs": [
        {
          "output_type": "stream",
          "text": [
            "Mean Absolute Error is: 0.8558136724690438\n"
          ],
          "name": "stdout"
        }
      ]
    },
    {
      "cell_type": "code",
      "metadata": {
        "id": "phGVkHoUgp7j"
      },
      "source": [
        "error = y_predict - y_test"
      ],
      "execution_count": 32,
      "outputs": []
    },
    {
      "cell_type": "code",
      "metadata": {
        "colab": {
          "base_uri": "https://localhost:8080/"
        },
        "id": "77wv4Utzg3yl",
        "outputId": "7f0adfcf-62d4-468d-c7be-1724c7b1a62e"
      },
      "source": [
        "error"
      ],
      "execution_count": 33,
      "outputs": [
        {
          "output_type": "execute_result",
          "data": {
            "text/plain": [
              "array([[ 0.49702327],\n",
              "       [ 0.46549143],\n",
              "       [-0.94247287],\n",
              "       [-0.83361587],\n",
              "       [-0.59799374],\n",
              "       [-1.30488856],\n",
              "       [ 0.93922999],\n",
              "       [-0.2863925 ],\n",
              "       [ 0.479825  ],\n",
              "       [-0.78145501],\n",
              "       [-1.60709297],\n",
              "       [ 2.0890591 ],\n",
              "       [ 1.54777417],\n",
              "       [ 1.07753653],\n",
              "       [ 0.75836393],\n",
              "       [-0.21782622],\n",
              "       [ 0.9102988 ],\n",
              "       [ 0.12587288],\n",
              "       [-1.45032847],\n",
              "       [ 0.20373213]])"
            ]
          },
          "metadata": {
            "tags": []
          },
          "execution_count": 33
        }
      ]
    },
    {
      "cell_type": "code",
      "metadata": {
        "colab": {
          "base_uri": "https://localhost:8080/"
        },
        "id": "WobF11AQg4wo",
        "outputId": "ac95a67a-45bc-4481-cbe1-4be65bb96807"
      },
      "source": [
        "from sklearn.metrics import mean_squared_error\r\n",
        "\r\n",
        "print('Mean squared error is: ',mean_squared_error(y_test,y_predict))"
      ],
      "execution_count": 34,
      "outputs": [
        {
          "output_type": "stream",
          "text": [
            "Mean squared error is:  1.0013955130409389\n"
          ],
          "name": "stdout"
        }
      ]
    },
    {
      "cell_type": "code",
      "metadata": {
        "id": "FuFNFg8hhIxT"
      },
      "source": [
        "# Train and Visualize Ridge Regression Model\r\n",
        "\r\n",
        "ridge_model = linear_model.Ridge(alpha=0.3)\r\n",
        "ridge_model.fit(X_train,y_train)\r\n",
        "predicted_values = ridge_model.predict(X_test)"
      ],
      "execution_count": 35,
      "outputs": []
    },
    {
      "cell_type": "code",
      "metadata": {
        "colab": {
          "base_uri": "https://localhost:8080/",
          "height": 283
        },
        "id": "8U0ZiwcbiIe0",
        "outputId": "9b31b26f-c968-418b-f9d7-9b8e27b67a8d"
      },
      "source": [
        "plt.plot(X_test,y_test,'b.')\r\n",
        "plt.plot(X_test,predicted_values,'r')"
      ],
      "execution_count": 42,
      "outputs": [
        {
          "output_type": "execute_result",
          "data": {
            "text/plain": [
              "[<matplotlib.lines.Line2D at 0x7f8ba582fb00>]"
            ]
          },
          "metadata": {
            "tags": []
          },
          "execution_count": 42
        },
        {
          "output_type": "display_data",
          "data": {
            "image/png": "[encoded data removed]",
            "text/plain": [
              "<Figure size 432x288 with 1 Axes>"
            ]
          },
          "metadata": {
            "tags": [],
            "needs_background": "light"
          }
        }
      ]
    },
    {
      "cell_type": "code",
      "metadata": {
        "id": "vDOnNHh7iUfX"
      },
      "source": [
        "# Train and Visualize Lasso Regression Models\r\n",
        "\r\n",
        "lasso_model = linear_model.Lasso(alpha=0.2)\r\n",
        "lasso_model.fit(X_train,y_train)\r\n",
        "predict_lasso= lasso_model.predict(X_test)"
      ],
      "execution_count": 37,
      "outputs": []
    },
    {
      "cell_type": "code",
      "metadata": {
        "colab": {
          "base_uri": "https://localhost:8080/",
          "height": 283
        },
        "id": "csjnPqxbiqbu",
        "outputId": "df0de668-1288-42ca-ce52-b49c0da56529"
      },
      "source": [
        "plt.plot(X_test,y_test,'b.')\r\n",
        "plt.plot(X_test,predict_lasso,'r')"
      ],
      "execution_count": 41,
      "outputs": [
        {
          "output_type": "execute_result",
          "data": {
            "text/plain": [
              "[<matplotlib.lines.Line2D at 0x7f8ba58b33c8>]"
            ]
          },
          "metadata": {
            "tags": []
          },
          "execution_count": 41
        },
        {
          "output_type": "display_data",
          "data": {
            "image/png": "[encoded data removed]",
            "text/plain": [
              "<Figure size 432x288 with 1 Axes>"
            ]
          },
          "metadata": {
            "tags": [],
            "needs_background": "light"
          }
        }
      ]
    },
    {
      "cell_type": "code",
      "metadata": {
        "id": "FiZ8eTxTix2p"
      },
      "source": [
        "# Train with polynomial features for ht model\r\n",
        "\r\n",
        "from sklearn.preprocessing import PolynomialFeatures\r\n",
        "#https://scikit-learn.org/stable/modules/generated/sklearn.preprocessing.PolynomialFeatures.html"
      ],
      "execution_count": 44,
      "outputs": []
    },
    {
      "cell_type": "code",
      "metadata": {
        "id": "sg06xlN6jaGl"
      },
      "source": [
        "poly_features = PolynomialFeatures(degree=5)\r\n",
        "X_poly = poly_features.fit_transform(x) # converting original features"
      ],
      "execution_count": 46,
      "outputs": []
    },
    {
      "cell_type": "code",
      "metadata": {
        "colab": {
          "base_uri": "https://localhost:8080/"
        },
        "id": "ZRe1eBNpj1ay",
        "outputId": "12317be6-1e2c-48b0-f73b-b38f9a8cfa90"
      },
      "source": [
        "print(x.shape)\r\n",
        "print(X_poly.shape)"
      ],
      "execution_count": 47,
      "outputs": [
        {
          "output_type": "stream",
          "text": [
            "(100, 1)\n",
            "(100, 6)\n"
          ],
          "name": "stdout"
        }
      ]
    },
    {
      "cell_type": "code",
      "metadata": {
        "id": "JSI4CfXej7Rs"
      },
      "source": [
        "X_polytrain,X_polytest,y_polytrain,y_polytest = train_test_split(X_poly,y_withNoise,test_size = 0.2, random_state=2)"
      ],
      "execution_count": 49,
      "outputs": []
    },
    {
      "cell_type": "code",
      "metadata": {
        "id": "DXs0G-DZkaIn"
      },
      "source": [
        "poly_model = linear_model.LinearRegression()\r\n",
        "poly_model.fit(X_polytrain,y_polytrain)\r\n",
        "predict_poly = poly_model.predict(X_polytest)"
      ],
      "execution_count": 50,
      "outputs": []
    },
    {
      "cell_type": "code",
      "metadata": {
        "id": "e621BwMxk04f"
      },
      "source": [
        ""
      ],
      "execution_count": 52,
      "outputs": []
    },
    {
      "cell_type": "code",
      "metadata": {
        "id": "saY_qDYIlGax"
      },
      "source": [
        ""
      ],
      "execution_count": null,
      "outputs": []
    }
  ]
}