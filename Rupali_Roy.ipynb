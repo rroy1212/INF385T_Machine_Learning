{
  "nbformat": 4,
  "nbformat_minor": 0,
  "metadata": {
    "colab": {
      "name": "Lab_Assignment_02.ipynb",
      "provenance": [],
      "collapsed_sections": [],
      "toc_visible": true
    },
    "kernelspec": {
      "name": "python3",
      "display_name": "Python 3"
    },
    "language_info": {
      "name": "python"
    }
  },
  "cells": [
    {
      "cell_type": "code",
      "metadata": {
        "id": "7Vp6vEi77ZCK"
      },
      "source": [
        "import matplotlib.pyplot as plt\n",
        "%matplotlib inline\n",
        "from sklearn.model_selection import train_test_split\n",
        "import warnings\n",
        "warnings.filterwarnings(\"ignore\")"
      ],
      "execution_count": 9,
      "outputs": []
    },
    {
      "cell_type": "markdown",
      "metadata": {
        "id": "oZyBY9bs9m9H"
      },
      "source": [
        "## 1. Construct Datasets for Training and Evaluation [4 points]\n",
        "\n",
        "* (a) Load a real dataset of your choice that is designed for classification but was not\n",
        "used in class; e.g., from sklearn.datasets, Kaggle, or your own data. (Code)\n",
        "* (b) Create a 70/30 train/test split of the dataset. (Code)"
      ]
    },
    {
      "cell_type": "code",
      "metadata": {
        "id": "kDwHTTUE7azP"
      },
      "source": [
        "## a. Loading a real dataset\n",
        "from sklearn.datasets import load_wine"
      ],
      "execution_count": 10,
      "outputs": []
    },
    {
      "cell_type": "code",
      "metadata": {
        "id": "uChtVG819pHy"
      },
      "source": [
        "wine_dataset = load_wine()"
      ],
      "execution_count": 11,
      "outputs": []
    },
    {
      "cell_type": "code",
      "metadata": {
        "colab": {
          "base_uri": "https://localhost:8080/"
        },
        "id": "Tq_xZGMR9qfN",
        "outputId": "b723a22b-2b91-482f-a630-b3eef3cb30e9"
      },
      "source": [
        "print(\"Keys of the Wine Dataset:\\n\", wine_dataset.keys(),'\\n')\n",
        "print(\"Target names: \", wine_dataset[\"target\"][:10],'\\n')\n",
        "print(\"Feature names: \", wine_dataset[\"feature_names\"],'\\n')\n",
        "print(\"Shape of data: \", wine_dataset['data'].shape,'\\n')\n",
        "print(\"Dataset description: \\n\", wine_dataset['DESCR'],'\\n')"
      ],
      "execution_count": 12,
      "outputs": [
        {
          "output_type": "stream",
          "text": [
            "Keys of the Wine Dataset:\n",
            " dict_keys(['data', 'target', 'target_names', 'DESCR', 'feature_names']) \n",
            "\n",
            "Target names:  [0 0 0 0 0 0 0 0 0 0] \n",
            "\n",
            "Feature names:  ['alcohol', 'malic_acid', 'ash', 'alcalinity_of_ash', 'magnesium', 'total_phenols', 'flavanoids', 'nonflavanoid_phenols', 'proanthocyanins', 'color_intensity', 'hue', 'od280/od315_of_diluted_wines', 'proline'] \n",
            "\n",
            "Shape of data:  (178, 13) \n",
            "\n",
            "Dataset description: \n",
            " .. _wine_dataset:\n",
            "\n",
            "Wine recognition dataset\n",
            "------------------------\n",
            "\n",
            "**Data Set Characteristics:**\n",
            "\n",
            "    :Number of Instances: 178 (50 in each of three classes)\n",
            "    :Number of Attributes: 13 numeric, predictive attributes and the class\n",
            "    :Attribute Information:\n",
            " \t\t- Alcohol\n",
            " \t\t- Malic acid\n",
            " \t\t- Ash\n",
            "\t\t- Alcalinity of ash  \n",
            " \t\t- Magnesium\n",
            "\t\t- Total phenols\n",
            " \t\t- Flavanoids\n",
            " \t\t- Nonflavanoid phenols\n",
            " \t\t- Proanthocyanins\n",
            "\t\t- Color intensity\n",
            " \t\t- Hue\n",
            " \t\t- OD280/OD315 of diluted wines\n",
            " \t\t- Proline\n",
            "\n",
            "    - class:\n",
            "            - class_0\n",
            "            - class_1\n",
            "            - class_2\n",
            "\t\t\n",
            "    :Summary Statistics:\n",
            "    \n",
            "    ============================= ==== ===== ======= =====\n",
            "                                   Min   Max   Mean     SD\n",
            "    ============================= ==== ===== ======= =====\n",
            "    Alcohol:                      11.0  14.8    13.0   0.8\n",
            "    Malic Acid:                   0.74  5.80    2.34  1.12\n",
            "    Ash:                          1.36  3.23    2.36  0.27\n",
            "    Alcalinity of Ash:            10.6  30.0    19.5   3.3\n",
            "    Magnesium:                    70.0 162.0    99.7  14.3\n",
            "    Total Phenols:                0.98  3.88    2.29  0.63\n",
            "    Flavanoids:                   0.34  5.08    2.03  1.00\n",
            "    Nonflavanoid Phenols:         0.13  0.66    0.36  0.12\n",
            "    Proanthocyanins:              0.41  3.58    1.59  0.57\n",
            "    Colour Intensity:              1.3  13.0     5.1   2.3\n",
            "    Hue:                          0.48  1.71    0.96  0.23\n",
            "    OD280/OD315 of diluted wines: 1.27  4.00    2.61  0.71\n",
            "    Proline:                       278  1680     746   315\n",
            "    ============================= ==== ===== ======= =====\n",
            "\n",
            "    :Missing Attribute Values: None\n",
            "    :Class Distribution: class_0 (59), class_1 (71), class_2 (48)\n",
            "    :Creator: R.A. Fisher\n",
            "    :Donor: Michael Marshall (MARSHALL%PLU@io.arc.nasa.gov)\n",
            "    :Date: July, 1988\n",
            "\n",
            "This is a copy of UCI ML Wine recognition datasets.\n",
            "https://archive.ics.uci.edu/ml/machine-learning-databases/wine/wine.data\n",
            "\n",
            "The data is the results of a chemical analysis of wines grown in the same\n",
            "region in Italy by three different cultivators. There are thirteen different\n",
            "measurements taken for different constituents found in the three types of\n",
            "wine.\n",
            "\n",
            "Original Owners: \n",
            "\n",
            "Forina, M. et al, PARVUS - \n",
            "An Extendible Package for Data Exploration, Classification and Correlation. \n",
            "Institute of Pharmaceutical and Food Analysis and Technologies,\n",
            "Via Brigata Salerno, 16147 Genoa, Italy.\n",
            "\n",
            "Citation:\n",
            "\n",
            "Lichman, M. (2013). UCI Machine Learning Repository\n",
            "[https://archive.ics.uci.edu/ml]. Irvine, CA: University of California,\n",
            "School of Information and Computer Science. \n",
            "\n",
            ".. topic:: References\n",
            "\n",
            "  (1) S. Aeberhard, D. Coomans and O. de Vel, \n",
            "  Comparison of Classifiers in High Dimensional Settings, \n",
            "  Tech. Rep. no. 92-02, (1992), Dept. of Computer Science and Dept. of  \n",
            "  Mathematics and Statistics, James Cook University of North Queensland. \n",
            "  (Also submitted to Technometrics). \n",
            "\n",
            "  The data was used with many others for comparing various \n",
            "  classifiers. The classes are separable, though only RDA \n",
            "  has achieved 100% correct classification. \n",
            "  (RDA : 100%, QDA 99.4%, LDA 98.9%, 1NN 96.1% (z-transformed data)) \n",
            "  (All results using the leave-one-out technique) \n",
            "\n",
            "  (2) S. Aeberhard, D. Coomans and O. de Vel, \n",
            "  \"THE CLASSIFICATION PERFORMANCE OF RDA\" \n",
            "  Tech. Rep. no. 92-01, (1992), Dept. of Computer Science and Dept. of \n",
            "  Mathematics and Statistics, James Cook University of North Queensland. \n",
            "  (Also submitted to Journal of Chemometrics).\n",
            " \n",
            "\n"
          ],
          "name": "stdout"
        }
      ]
    },
    {
      "cell_type": "code",
      "metadata": {
        "id": "sU17hMXp9r8f"
      },
      "source": [
        "# Spliting target variable and independent variables\n",
        "X = wine_dataset[\"data\"]\n",
        "y = wine_dataset[\"target\"] "
      ],
      "execution_count": 13,
      "outputs": []
    },
    {
      "cell_type": "code",
      "metadata": {
        "colab": {
          "base_uri": "https://localhost:8080/"
        },
        "id": "NS_SZAHI9upA",
        "outputId": "72de9d8c-efdf-41b7-999a-223b2f2b9ac6"
      },
      "source": [
        "print(X.shape)\n",
        "print(y.shape)"
      ],
      "execution_count": 14,
      "outputs": [
        {
          "output_type": "stream",
          "text": [
            "(178, 13)\n",
            "(178,)\n"
          ],
          "name": "stdout"
        }
      ]
    },
    {
      "cell_type": "code",
      "metadata": {
        "colab": {
          "base_uri": "https://localhost:8080/"
        },
        "id": "LiRMHBz89v8P",
        "outputId": "2a61212c-9896-44d5-c19c-92f0ebdb323e"
      },
      "source": [
        "y=y.reshape(-1,1)\n",
        "y.shape"
      ],
      "execution_count": 15,
      "outputs": [
        {
          "output_type": "execute_result",
          "data": {
            "text/plain": [
              "(178, 1)"
            ]
          },
          "metadata": {
            "tags": []
          },
          "execution_count": 15
        }
      ]
    },
    {
      "cell_type": "code",
      "metadata": {
        "colab": {
          "base_uri": "https://localhost:8080/"
        },
        "id": "wpANaWtj9xZr",
        "outputId": "7dd3c79b-2833-4d10-904f-752fb6d1242e"
      },
      "source": [
        "# train is now 70% of the entire data set\n",
        "Xb_train, Xb_test, yb_train, yb_test = train_test_split(X, y, test_size = 0.3, random_state=42)\n",
        "print(\"Number of samples in training set is: \",len(Xb_train))\n",
        "print(\"Number of samples in remaining set is: \",len(Xb_test))"
      ],
      "execution_count": 16,
      "outputs": [
        {
          "output_type": "stream",
          "text": [
            "Number of samples in training set is:  124\n",
            "Number of samples in remaining set is:  54\n"
          ],
          "name": "stdout"
        }
      ]
    },
    {
      "cell_type": "markdown",
      "metadata": {
        "id": "XeiYe-EO92ia"
      },
      "source": [
        "## 2. Optimize Hyperparameter(s) for Classification Models [32 points]:\n",
        " \n",
        "When evaluating each model in this problem, perform stratified 3-fold cross-validation on the training dataset and use the “accuracy” measure to assess performance.\n",
        " "
      ]
    },
    {
      "cell_type": "markdown",
      "metadata": {
        "id": "USDwJljn94_M"
      },
      "source": [
        "**(a) K-Nearest Neighbors (K-NN): find the optimal hyperparameters for the distance\n",
        "metric (i.e., test “Euclidean” and “Manhattan”) and number of nearest neighbors\n",
        "(i.e., test at least 5 different values) when using k-Nearest Neighbors. Report the\n",
        "optimal hyperparameters found and how many hyperparameter combinations you\n",
        "tested in total. (Code and Write-up)**\n"
      ]
    },
    {
      "cell_type": "code",
      "metadata": {
        "id": "fnPooN6G90be"
      },
      "source": [
        "# K-Nearest Neighbors: Test number of neighbors from 1 to 10\n",
        "from sklearn.neighbors import KNeighborsClassifier\n",
        "\n",
        "from sklearn.model_selection import cross_val_score\n",
        "from sklearn.model_selection import StratifiedKFold"
      ],
      "execution_count": null,
      "outputs": []
    },
    {
      "cell_type": "code",
      "metadata": {
        "id": "goG6jt07SLYD"
      },
      "source": [
        "Kfold = StratifiedKFold(n_splits=3,shuffle=True, random_state=0)\n",
        "\n",
        "def get_optimal_k_value(p_value):\n",
        "  training_accuracy = []\n",
        "  test_accuracy = []\n",
        "  best_score = 0\n",
        "  k_values =  range(3,15)\n",
        "  for k in k_values:\n",
        "    knn = KNeighborsClassifier(n_neighbors=k, p=p_value)\n",
        "    knn.fit(Xb_train, yb_train)\n",
        "    \n",
        "    # Test model on the training data\n",
        "    cur_train_accuracy = knn.score(Xb_train, yb_train)\n",
        "    training_accuracy.append(cur_train_accuracy)\n",
        "\n",
        "    # Test model on the test data\n",
        "    cur_test_accuracy = knn.score(Xb_test, yb_test)\n",
        "    test_accuracy.append(cur_test_accuracy)\n",
        "\n",
        "    fold_accuracies = cross_val_score(knn, Xb_train, yb_train,cv=Kfold)\n",
        "    score = fold_accuracies.mean()\n",
        "\n",
        "    if score > best_score:\n",
        "      best_param = {'n_neighbors': k}\n",
        "      best_score = score \n",
        "    \n",
        "  plt.plot(k_values, training_accuracy, label=\"Training accuracy\")\n",
        "  plt.plot(k_values, test_accuracy, label=\"Validation accuracy\")\n",
        "  plt.xlabel(\"Number of neighbors\")\n",
        "  plt.ylabel(\"Accuracy\")\n",
        "  plt.legend()\n",
        "\n",
        "\n",
        "  print(\"Best score on score-validation: {:0.2f}\".format(best_score))\n",
        "  print(\"Best parameters: {}\".format(best_param))"
      ],
      "execution_count": null,
      "outputs": []
    },
    {
      "cell_type": "code",
      "metadata": {
        "colab": {
          "base_uri": "https://localhost:8080/",
          "height": 315
        },
        "id": "XXVRLmDzTPGu",
        "outputId": "d9df6ce3-0e1c-484b-ad86-b02d08b7b5f9"
      },
      "source": [
        "get_optimal_k_value(1) # manhattan"
      ],
      "execution_count": null,
      "outputs": [
        {
          "output_type": "stream",
          "text": [
            "Best score on score-validation: 0.77\n",
            "Best parameters: {'n_neighbors': 8}\n"
          ],
          "name": "stdout"
        },
        {
          "output_type": "display_data",
          "data": {
            "image/png": "[encoded data removed]",
            "text/plain": [
              "<Figure size 432x288 with 1 Axes>"
            ]
          },
          "metadata": {
            "tags": [],
            "needs_background": "light"
          }
        }
      ]
    },
    {
      "cell_type": "code",
      "metadata": {
        "colab": {
          "base_uri": "https://localhost:8080/",
          "height": 315
        },
        "id": "0ag7EhT6TSxg",
        "outputId": "a2709c3b-0a89-42e9-a9f0-c5c3e1dbd7b1"
      },
      "source": [
        "get_optimal_k_value(2) # euclidean"
      ],
      "execution_count": null,
      "outputs": [
        {
          "output_type": "stream",
          "text": [
            "Best score on score-validation: 0.74\n",
            "Best parameters: {'n_neighbors': 10}\n"
          ],
          "name": "stdout"
        },
        {
          "output_type": "display_data",
          "data": {
            "image/png": "[encoded data removed]",
            "text/plain": [
              "<Figure size 432x288 with 1 Axes>"
            ]
          },
          "metadata": {
            "tags": [],
            "needs_background": "light"
          }
        }
      ]
    },
    {
      "cell_type": "code",
      "metadata": {
        "id": "bveiFuK8mEkz"
      },
      "source": [
        "#patrick:\n",
        "# According to the question 2, \n",
        "# you need to perform \"stratified 3-fold cross-validation\" on the training dataset\n",
        "# nd use the \"accuracy\" measure to assess performance.\n",
        "\n",
        "# So, you will need to import StratifiedKFold like:\n",
        "# from sklearn.model_selection import StratifiedKFold\n",
        "# kfold = StratifiedKFold(n_splits=3, shuffle=True, random_state=0)\n",
        "# https://scikit-learn.org/stable/modules/generated/sklearn.model_selection.StratifiedKFold.html\n",
        "\n",
        "# And in your code, you will need to set the parameter, \"cv\", equal to kfold in your \"cross_val_score\"\n",
        "# for example: fold_accuracies = cross_val_score(your_model, X_train, y_train, cv=kfold)\n",
        "# https://scikit-learn.org/stable/modules/generated/sklearn.model_selection.cross_validate.html#sklearn.model_selection.cross_validate\n",
        "\n",
        "# By the way, there is another parameter you should aware of in \"cross_val_score\", which is \"scoring\".\n",
        "# Please refer to https://scikit-learn.org/stable/modules/model_evaluation.html#scoring-parameter"
      ],
      "execution_count": null,
      "outputs": []
    },
    {
      "cell_type": "markdown",
      "metadata": {
        "id": "N4VNUQtmLoBU"
      },
      "source": [
        "**(b) Decision tree: find the optimal hyperparameters for the split criterion (i.e., test\n",
        "“gini” and “entropy”) and tree depth (i.e., test at least 5 different values) when\n",
        "training a decision tree. Report the optimal hyperparameters found and how\n",
        "many hyperparameter combinations you tested in total. (Code and Write-up)**\n"
      ]
    },
    {
      "cell_type": "code",
      "metadata": {
        "id": "jHx6QqhZ-R54"
      },
      "source": [
        "# Train a decision tree model\n",
        "from sklearn.tree import DecisionTreeClassifier"
      ],
      "execution_count": null,
      "outputs": []
    },
    {
      "cell_type": "code",
      "metadata": {
        "id": "qtguSIGBdaWh"
      },
      "source": [
        "def get_decision_tree_hyperparamter(criterion):\n",
        "  best_score = 0\n",
        "  tree_depth_values = range(2,20)\n",
        "  for d in tree_depth_values:\n",
        "    decision_tree = DecisionTreeClassifier(criterion=criterion,max_depth=d,random_state=42)\n",
        "    fold_accuracies = cross_val_score(decision_tree, Xb_train, yb_train, cv=Kfold)\n",
        "    score = fold_accuracies.mean()\n",
        "    if score > best_score:\n",
        "      best_param = {'max_depth': d}\n",
        "      best_score = score \n",
        "\n",
        "  print(\"Best score on score-validation: {:0.2f}\".format(best_score))\n",
        "  print(\"Best parameters: {}\".format(best_param))\n"
      ],
      "execution_count": null,
      "outputs": []
    },
    {
      "cell_type": "code",
      "metadata": {
        "colab": {
          "base_uri": "https://localhost:8080/"
        },
        "id": "QR9-InvHgOWd",
        "outputId": "e7dde223-747c-4c60-9d62-daee4ceca07d"
      },
      "source": [
        "get_decision_tree_hyperparamter('gini')"
      ],
      "execution_count": null,
      "outputs": [
        {
          "output_type": "stream",
          "text": [
            "Best score on score-validation: 0.94\n",
            "Best parameters: {'max_depth': 3}\n"
          ],
          "name": "stdout"
        }
      ]
    },
    {
      "cell_type": "code",
      "metadata": {
        "colab": {
          "base_uri": "https://localhost:8080/"
        },
        "id": "-bMfElq5gQ7m",
        "outputId": "f09e076d-ec99-4adf-9c4e-5b755e87c252"
      },
      "source": [
        "get_decision_tree_hyperparamter('entropy')"
      ],
      "execution_count": null,
      "outputs": [
        {
          "output_type": "stream",
          "text": [
            "Best score on score-validation: 0.91\n",
            "Best parameters: {'max_depth': 4}\n"
          ],
          "name": "stdout"
        }
      ]
    },
    {
      "cell_type": "markdown",
      "metadata": {
        "id": "zZLUoDU9gjCj"
      },
      "source": [
        "The decision tree performance was best when criterion is 'gini and max depth is 3"
      ]
    },
    {
      "cell_type": "markdown",
      "metadata": {
        "id": "Ta2TLPgKbPfv"
      },
      "source": [
        "**(c) Support Vector Machine (SVM): find the optimal hyperparameters for the poly\u0002nomial degree, kernel bandwidth (i.e., gamma), and regularization parameter (i.e.,\n",
        "C) when training a kernel SVM with a polynomial kernel. You must evaluate all\n",
        "possible combinations of at least 4 degree values (for the polynomial degree), at\n",
        "least 4 gamma values, and at least 4 C values. Report the optimal hyperparameters\n",
        "found and how many hyperparameter combinations you tested in total. (Code\n",
        "and Write-up)**"
      ]
    },
    {
      "cell_type": "code",
      "metadata": {
        "id": "TFxdJ-YtlSD8",
        "colab": {
          "base_uri": "https://localhost:8080/"
        },
        "outputId": "13e810db-c873-4a44-8558-88183e7981a2"
      },
      "source": [
        "# Tune hyperparameters for SVM using cross-validation\n",
        "# One-vs-all/one-vs-rest classification\n",
        "\n",
        "from sklearn.multiclass import OneVsRestClassifier\n",
        "from sklearn.svm import SVC\n",
        "\n",
        "svm_clf = SVC(kernel=\"poly\", degree = 4, C = 7,gamma = 0.001)\n",
        "ovr_clf = OneVsRestClassifier(svm_clf)\n",
        "ovr_clf.fit(Xb_train, yb_train)\n",
        "predicted_classes = ovr_clf.predict(Xb_test)\n",
        "print(predicted_classes[:5])\n",
        "\n",
        "ovr_clf_svm_accuracy = ovr_clf.score(Xb_test, yb_test)\n",
        "print(ovr_clf_svm_accuracy)\n"
      ],
      "execution_count": null,
      "outputs": [
        {
          "output_type": "stream",
          "text": [
            "[0 0 2 1 1]\n",
            "0.9444444444444444\n"
          ],
          "name": "stdout"
        }
      ]
    },
    {
      "cell_type": "code",
      "metadata": {
        "id": "VAFYOLwQk3xk"
      },
      "source": [
        "C = [6,7,8,9,10]\n",
        "degree = [2,3,4,5,6]\n",
        "gamma = [0.1,0.01,0.001,0.0001]\n",
        "\n",
        "def get_best_params():\n",
        "  best_score = 0\n",
        "  for c in C:\n",
        "    for d in degree:\n",
        "      for g in gamma:\n",
        "        svm_clf = SVC(kernel=\"poly\", degree = d, C = c,gamma = g)\n",
        "        ovr_clf = OneVsRestClassifier(svm_clf)\n",
        "        fold_accuracies = cross_val_score(ovr_clf, Xb_train, yb_train, cv=Kfold)\n",
        "        score = fold_accuracies.mean()\n",
        "        if score > best_score:\n",
        "          best_param = {'degree': d,'C':c,'gamma':g}\n",
        "          best_score = score\n",
        "  print(\"Best score on score-validation: {:0.2f}\".format(best_score))\n",
        "  print(\"Best parameters: {}\".format(best_param))     "
      ],
      "execution_count": null,
      "outputs": []
    },
    {
      "cell_type": "code",
      "metadata": {
        "id": "VkWRkrROop2z",
        "colab": {
          "base_uri": "https://localhost:8080/"
        },
        "outputId": "b7214202-c74d-4e08-c885-da6036066062"
      },
      "source": [
        "get_best_params()"
      ],
      "execution_count": null,
      "outputs": [
        {
          "output_type": "stream",
          "text": [
            "Best score on score-validation: 0.97\n",
            "Best parameters: {'degree': 2, 'C': 6, 'gamma': 0.0001}\n"
          ],
          "name": "stdout"
        }
      ]
    },
    {
      "cell_type": "markdown",
      "metadata": {
        "id": "SMWiDdZ6t3hd"
      },
      "source": [
        "## 3. Comparative Analysis of Optimized Classification Models [32 points]: (Do not use GridSearchCV for this problem)\n"
      ]
    },
    {
      "cell_type": "markdown",
      "metadata": {
        "id": "AA5dVQ31uzW_"
      },
      "source": [
        "**(a) Retrain each of the three models (i.e., Decision tree, K-NN, and SVM) on all the\n",
        "training data using the optimal hyperparameters found in part 2. Also train a\n",
        "Gaussian Naive Bayes model on all the training data. (Code)**\n"
      ]
    },
    {
      "cell_type": "markdown",
      "metadata": {
        "id": "uxUOCgAKQTjr"
      },
      "source": [
        "Model no. 1 - KNN Classsifier"
      ]
    },
    {
      "cell_type": "code",
      "metadata": {
        "id": "LnfFELmjvIP-",
        "colab": {
          "base_uri": "https://localhost:8080/"
        },
        "outputId": "bbd2364f-3a66-4dc1-fb59-2ba82e4fe073"
      },
      "source": [
        "## KNN Classifier\n",
        "## Hyperparameter for KNN k=8 and p=1 (manhattan)\n",
        "\n",
        "knn = KNeighborsClassifier(n_neighbors=8, p=1)\n",
        "knn.fit(Xb_train, yb_train)\n"
      ],
      "execution_count": null,
      "outputs": [
        {
          "output_type": "execute_result",
          "data": {
            "text/plain": [
              "KNeighborsClassifier(algorithm='auto', leaf_size=30, metric='minkowski',\n",
              "                     metric_params=None, n_jobs=None, n_neighbors=8, p=1,\n",
              "                     weights='uniform')"
            ]
          },
          "metadata": {
            "tags": []
          },
          "execution_count": 37
        }
      ]
    },
    {
      "cell_type": "markdown",
      "metadata": {
        "id": "LHBH5p9XQYOy"
      },
      "source": [
        "Model No.2 Decision Tree Classifier"
      ]
    },
    {
      "cell_type": "code",
      "metadata": {
        "colab": {
          "base_uri": "https://localhost:8080/"
        },
        "id": "pSeJoj40MspS",
        "outputId": "4948bbbf-be17-4e0c-eb14-2e5929d91b1e"
      },
      "source": [
        "## Decsion Tree Classifier\n",
        "## Best hyperparameter for Decision Tree Classifier is criterion is \"gini\" and max_depth = '3'\n",
        "\n",
        "tree_gini = DecisionTreeClassifier(criterion=\"gini\", max_depth=3)\n",
        "tree_gini.fit(Xb_train, yb_train)\n"
      ],
      "execution_count": null,
      "outputs": [
        {
          "output_type": "execute_result",
          "data": {
            "text/plain": [
              "DecisionTreeClassifier(ccp_alpha=0.0, class_weight=None, criterion='gini',\n",
              "                       max_depth=3, max_features=None, max_leaf_nodes=None,\n",
              "                       min_impurity_decrease=0.0, min_impurity_split=None,\n",
              "                       min_samples_leaf=1, min_samples_split=2,\n",
              "                       min_weight_fraction_leaf=0.0, presort='deprecated',\n",
              "                       random_state=None, splitter='best')"
            ]
          },
          "metadata": {
            "tags": []
          },
          "execution_count": 40
        }
      ]
    },
    {
      "cell_type": "markdown",
      "metadata": {
        "id": "RBdahb3UQcf-"
      },
      "source": [
        "Model No. 3 SVM Classifier"
      ]
    },
    {
      "cell_type": "code",
      "metadata": {
        "colab": {
          "base_uri": "https://localhost:8080/"
        },
        "id": "3Vm2NmtLQgZx",
        "outputId": "2b6c109b-0315-4647-f3e9-c91739c1f371"
      },
      "source": [
        "svm_clf = SVC(kernel=\"poly\", degree = 2, C = 6,gamma = 0.001)\n",
        "ovr_clf = OneVsRestClassifier(svm_clf)\n",
        "ovr_clf.fit(Xb_train, yb_train)"
      ],
      "execution_count": null,
      "outputs": [
        {
          "output_type": "execute_result",
          "data": {
            "text/plain": [
              "OneVsRestClassifier(estimator=SVC(C=6, break_ties=False, cache_size=200,\n",
              "                                  class_weight=None, coef0=0.0,\n",
              "                                  decision_function_shape='ovr', degree=2,\n",
              "                                  gamma=0.001, kernel='poly', max_iter=-1,\n",
              "                                  probability=False, random_state=None,\n",
              "                                  shrinking=True, tol=0.001, verbose=False),\n",
              "                    n_jobs=None)"
            ]
          },
          "metadata": {
            "tags": []
          },
          "execution_count": 116
        }
      ]
    },
    {
      "cell_type": "markdown",
      "metadata": {
        "id": "1XqAFyLBbgGl"
      },
      "source": [
        "Model No. 4 Gaussian Naive Bayes Model"
      ]
    },
    {
      "cell_type": "code",
      "metadata": {
        "colab": {
          "base_uri": "https://localhost:8080/"
        },
        "id": "SGodhOajbd8T",
        "outputId": "2cc13104-4b3f-4e93-c1d4-bf0280637b26"
      },
      "source": [
        "# Train and evaluate Naive Bayes classifier\n",
        "from sklearn.naive_bayes import GaussianNB\n",
        "\n",
        "gaussian_model = GaussianNB()\n",
        "gaussian_model.fit(Xb_train, yb_train)\n"
      ],
      "execution_count": 18,
      "outputs": [
        {
          "output_type": "execute_result",
          "data": {
            "text/plain": [
              "GaussianNB(priors=None, var_smoothing=1e-09)"
            ]
          },
          "metadata": {
            "tags": []
          },
          "execution_count": 18
        }
      ]
    },
    {
      "cell_type": "markdown",
      "metadata": {
        "id": "7zUkDpi3vEO2"
      },
      "source": [
        "**(b) Report the predictive performance on the test dataset for each of the four models from part (a) with respect to each of the following evaluation metrics: accuracy, precision, and recall. (Code and Write-up)**\n"
      ]
    },
    {
      "cell_type": "code",
      "metadata": {
        "id": "wVY5z5RTRWl2"
      },
      "source": [
        "from sklearn.metrics import roc_auc_score, accuracy_score, precision_score, recall_score, f1_score\n",
        "from sklearn import metrics"
      ],
      "execution_count": 20,
      "outputs": []
    },
    {
      "cell_type": "markdown",
      "metadata": {
        "id": "LjTZgfMyQwY4"
      },
      "source": [
        "Model No. 1 KNN Classifier Evaluation"
      ]
    },
    {
      "cell_type": "code",
      "metadata": {
        "id": "12ApnMaot1nG",
        "colab": {
          "base_uri": "https://localhost:8080/"
        },
        "outputId": "b8cd79ec-a83b-4b0b-eb63-6ba651d1c176"
      },
      "source": [
        "knn_predictions = knn.predict(Xb_test) ## Predictions for KNN\n",
        "\n",
        "print('The accuracy score for KNN classifier is:',accuracy_score(yb_test,knn_predictions),'\\n')\n",
        "print('The precision score for KNN classifier is: ',precision_score(yb_test,knn_predictions,average='weighted'),'\\n')\n",
        "print('The recall score for KNN classifier is: ', recall_score(yb_test,knn_predictions,average='weighted'),'\\n')\n",
        "\n",
        "print('The classification report is: ')\n",
        "\n",
        "print('\\n',metrics.classification_report(yb_test, knn_predictions))"
      ],
      "execution_count": null,
      "outputs": [
        {
          "output_type": "stream",
          "text": [
            "The accuracy score for KNN classifier is: 0.7777777777777778 \n",
            "\n",
            "The precision score for KNN classifier is:  0.7792397660818713 \n",
            "\n",
            "The recall score for KNN classifier is:  0.7777777777777778 \n",
            "\n",
            "The classification report is: \n",
            "\n",
            "               precision    recall  f1-score   support\n",
            "\n",
            "           0       0.90      0.95      0.92        19\n",
            "           1       0.79      0.71      0.75        21\n",
            "           2       0.60      0.64      0.62        14\n",
            "\n",
            "    accuracy                           0.78        54\n",
            "   macro avg       0.76      0.77      0.76        54\n",
            "weighted avg       0.78      0.78      0.78        54\n",
            "\n"
          ],
          "name": "stdout"
        }
      ]
    },
    {
      "cell_type": "markdown",
      "metadata": {
        "id": "Ce5iXWKxSeBU"
      },
      "source": [
        "Model No. 2 Decision Tree Classifier Evaluation"
      ]
    },
    {
      "cell_type": "code",
      "metadata": {
        "id": "NdqTDsq9QdE6",
        "colab": {
          "base_uri": "https://localhost:8080/"
        },
        "outputId": "024a8663-1918-4765-d3e5-3ca8ee42f4f2"
      },
      "source": [
        "tree_predictions = tree_gini.predict(Xb_test)\n",
        "\n",
        "print('The accuracy score for Decision Tree classifier is:',accuracy_score(yb_test,tree_predictions),'\\n')\n",
        "print('The precision score for Decision Tree classifier is: ',precision_score(yb_test,tree_predictions,average='weighted'),'\\n')\n",
        "print('The recall score for Decision Tree classifier is: ', recall_score(yb_test,tree_predictions,average='weighted'),'\\n')\n",
        "\n",
        "print('The classification report is: ')\n",
        "\n",
        "print('\\n',metrics.classification_report(yb_test, tree_predictions))"
      ],
      "execution_count": null,
      "outputs": [
        {
          "output_type": "stream",
          "text": [
            "The accuracy score for Decision Tree classifier is: 0.9444444444444444 \n",
            "\n",
            "The precision score for Decision Tree classifier is:  0.9513888888888888 \n",
            "\n",
            "The recall score for Decision Tree classifier is:  0.9444444444444444 \n",
            "\n",
            "The classification report is: \n",
            "\n",
            "               precision    recall  f1-score   support\n",
            "\n",
            "           0       1.00      0.89      0.94        19\n",
            "           1       0.88      1.00      0.93        21\n",
            "           2       1.00      0.93      0.96        14\n",
            "\n",
            "    accuracy                           0.94        54\n",
            "   macro avg       0.96      0.94      0.95        54\n",
            "weighted avg       0.95      0.94      0.94        54\n",
            "\n"
          ],
          "name": "stdout"
        }
      ]
    },
    {
      "cell_type": "markdown",
      "metadata": {
        "id": "nKeX3oJCS0G2"
      },
      "source": [
        "Model No. 3 SVM Classifier Evaluation"
      ]
    },
    {
      "cell_type": "code",
      "metadata": {
        "id": "UO_q6LtI-yHP",
        "colab": {
          "base_uri": "https://localhost:8080/"
        },
        "outputId": "77913232-273d-4619-d71a-fecdacbb33d4"
      },
      "source": [
        "svm_predictions = ovr_clf.predict(Xb_test)\n",
        "\n",
        "print('The accuracy score for SVM classifier is:',accuracy_score(yb_test,svm_predictions),'\\n')\n",
        "print('The precision score for SVM classifier is: ',precision_score(yb_test,svm_predictions,average='weighted'),'\\n')\n",
        "print('The recall score for SVM classifier is: ', recall_score(yb_test,svm_predictions,average='weighted'),'\\n')\n",
        "\n",
        "print('The classification report is: ')\n",
        "print('\\n',metrics.classification_report(yb_test, svm_predictions))"
      ],
      "execution_count": null,
      "outputs": [
        {
          "output_type": "stream",
          "text": [
            "The accuracy score for SVM classifier is: 0.9814814814814815 \n",
            "\n",
            "The precision score for SVM classifier is:  0.9824074074074074 \n",
            "\n",
            "The recall score for SVM classifier is:  0.9814814814814815 \n",
            "\n",
            "The classification report is: \n",
            "\n",
            "               precision    recall  f1-score   support\n",
            "\n",
            "           0       0.95      1.00      0.97        19\n",
            "           1       1.00      0.95      0.98        21\n",
            "           2       1.00      1.00      1.00        14\n",
            "\n",
            "    accuracy                           0.98        54\n",
            "   macro avg       0.98      0.98      0.98        54\n",
            "weighted avg       0.98      0.98      0.98        54\n",
            "\n"
          ],
          "name": "stdout"
        }
      ]
    },
    {
      "cell_type": "markdown",
      "metadata": {
        "id": "vVb2pUIab6uO"
      },
      "source": [
        "Model No. 4 Gaussian Naive Bayes Model"
      ]
    },
    {
      "cell_type": "code",
      "metadata": {
        "colab": {
          "base_uri": "https://localhost:8080/"
        },
        "id": "3efVauB8b5JG",
        "outputId": "803ba841-b46f-4f56-8949-157846699380"
      },
      "source": [
        "gnb_predictions = gaussian_model.predict(Xb_test)\n",
        "\n",
        "print('The accuracy score for Naive Bayes classifier is:',accuracy_score(yb_test,gnb_predictions),'\\n')\n",
        "print('The precision score for Naive Bayes classifier is: ',precision_score(yb_test,gnb_predictions,average='weighted'),'\\n')\n",
        "print('The recall score for Naive Bayes classifier is: ', recall_score(yb_test,gnb_predictions,average='weighted'),'\\n')\n",
        "\n",
        "print('The classification report is: ')\n",
        "print('\\n',metrics.classification_report(yb_test, gnb_predictions))"
      ],
      "execution_count": 21,
      "outputs": [
        {
          "output_type": "stream",
          "text": [
            "The accuracy score for Naive Bayes classifier is: 1.0 \n",
            "\n",
            "The precision score for Naive Bayes classifier is:  1.0 \n",
            "\n",
            "The recall score for Naive Bayes classifier is:  1.0 \n",
            "\n",
            "The classification report is: \n",
            "\n",
            "               precision    recall  f1-score   support\n",
            "\n",
            "           0       1.00      1.00      1.00        19\n",
            "           1       1.00      1.00      1.00        21\n",
            "           2       1.00      1.00      1.00        14\n",
            "\n",
            "    accuracy                           1.00        54\n",
            "   macro avg       1.00      1.00      1.00        54\n",
            "weighted avg       1.00      1.00      1.00        54\n",
            "\n"
          ],
          "name": "stdout"
        }
      ]
    },
    {
      "cell_type": "markdown",
      "metadata": {
        "id": "HhpMZU-QTxce"
      },
      "source": [
        "**(c) Visualize the predictive performance of the each of the four models from part (a) by showing the resulting confusion matrix for each model. (Code and Write-up)**\n"
      ]
    },
    {
      "cell_type": "markdown",
      "metadata": {
        "id": "A4v5blq8cO5l"
      },
      "source": [
        "Model No. 1 KNN Classifier Evaluation"
      ]
    },
    {
      "cell_type": "code",
      "metadata": {
        "id": "M2KbzvhxbMCI"
      },
      "source": [
        "from sklearn.metrics import plot_confusion_matrix"
      ],
      "execution_count": null,
      "outputs": []
    },
    {
      "cell_type": "code",
      "metadata": {
        "colab": {
          "base_uri": "https://localhost:8080/"
        },
        "id": "lccyTHa-TTXH",
        "outputId": "f2144ab6-82c3-4501-db46-88a86a2a26eb"
      },
      "source": [
        "print(metrics.confusion_matrix(yb_test,knn_predictions))"
      ],
      "execution_count": null,
      "outputs": [
        {
          "output_type": "stream",
          "text": [
            "[[18  0  1]\n",
            " [ 1 15  5]\n",
            " [ 1  4  9]]\n"
          ],
          "name": "stdout"
        }
      ]
    },
    {
      "cell_type": "code",
      "metadata": {
        "id": "m0kMxUyYaX-u"
      },
      "source": [
        "class_names = wine_dataset.target_names"
      ],
      "execution_count": null,
      "outputs": []
    },
    {
      "cell_type": "code",
      "metadata": {
        "colab": {
          "base_uri": "https://localhost:8080/",
          "height": 320
        },
        "id": "4givMnKkaOv5",
        "outputId": "b055b602-fa1f-4994-d3ee-64e6300b1486"
      },
      "source": [
        "print(\"\\t Confusion Matrix for KNN Classifier \\n\")\n",
        "disp = plot_confusion_matrix(knn, Xb_test, yb_test,display_labels=class_names, cmap=plt.cm.Blues)\n",
        "plt.show()"
      ],
      "execution_count": null,
      "outputs": [
        {
          "output_type": "stream",
          "text": [
            "\t Confusion Matrix for KNN Classifier \n",
            "\n"
          ],
          "name": "stdout"
        },
        {
          "output_type": "display_data",
          "data": {
            "image/png": "[encoded data removed]",
            "text/plain": [
              "<Figure size 432x288 with 2 Axes>"
            ]
          },
          "metadata": {
            "tags": [],
            "needs_background": "light"
          }
        }
      ]
    },
    {
      "cell_type": "markdown",
      "metadata": {
        "id": "ntvN1YiVcSgD"
      },
      "source": [
        "Model No.2 Decision Tree Classifier"
      ]
    },
    {
      "cell_type": "code",
      "metadata": {
        "colab": {
          "base_uri": "https://localhost:8080/"
        },
        "id": "CRWNQQM4aUZc",
        "outputId": "8c4130ef-0534-4020-beb4-4ca16c98992b"
      },
      "source": [
        "print(metrics.confusion_matrix(yb_test,tree_predictions))"
      ],
      "execution_count": null,
      "outputs": [
        {
          "output_type": "stream",
          "text": [
            "[[17  2  0]\n",
            " [ 0 21  0]\n",
            " [ 0  1 13]]\n"
          ],
          "name": "stdout"
        }
      ]
    },
    {
      "cell_type": "code",
      "metadata": {
        "colab": {
          "base_uri": "https://localhost:8080/",
          "height": 316
        },
        "id": "b1hHNiBGcYTA",
        "outputId": "bdd2e9f6-d0bf-43c3-8ca3-e83dff3f6d5d"
      },
      "source": [
        "print(\"\\t Confusion Matrix for Decision Tree Classifier \\n\")\n",
        "disp = plot_confusion_matrix(tree_gini, Xb_test, yb_test,display_labels=class_names, cmap=plt.cm.Blues)\n",
        "plt.show()"
      ],
      "execution_count": null,
      "outputs": [
        {
          "output_type": "stream",
          "text": [
            "\t Confusion Matrix for Decision Tree Classifier \n",
            "\n"
          ],
          "name": "stdout"
        },
        {
          "output_type": "display_data",
          "data": {
            "image/png": "[encoded data removed]",
            "text/plain": [
              "<Figure size 432x288 with 2 Axes>"
            ]
          },
          "metadata": {
            "tags": [],
            "needs_background": "light"
          }
        }
      ]
    },
    {
      "cell_type": "markdown",
      "metadata": {
        "id": "YNu5rdUCcvkW"
      },
      "source": [
        "Model No. 3 SVM Classifier "
      ]
    },
    {
      "cell_type": "code",
      "metadata": {
        "colab": {
          "base_uri": "https://localhost:8080/"
        },
        "id": "SRSVkjRScpi8",
        "outputId": "a6c23c25-5421-41c0-9e97-7d0e112c1f75"
      },
      "source": [
        "print(metrics.confusion_matrix(yb_test,svm_predictions))"
      ],
      "execution_count": null,
      "outputs": [
        {
          "output_type": "stream",
          "text": [
            "[[19  0  0]\n",
            " [ 1 20  0]\n",
            " [ 0  0 14]]\n"
          ],
          "name": "stdout"
        }
      ]
    },
    {
      "cell_type": "code",
      "metadata": {
        "colab": {
          "base_uri": "https://localhost:8080/",
          "height": 320
        },
        "id": "wSwPE5NgdCJ8",
        "outputId": "cc2f0377-0a6f-4276-c4bc-98f5885b3e42"
      },
      "source": [
        "print(\"\\t Confusion Matrix for SVM Classifier \\n\")\n",
        "disp = plot_confusion_matrix(ovr_clf, Xb_test, yb_test,display_labels=class_names, cmap=plt.cm.Blues)\n",
        "plt.show()"
      ],
      "execution_count": null,
      "outputs": [
        {
          "output_type": "stream",
          "text": [
            "\t Confusion Matrix for SVM Classifier \n",
            "\n"
          ],
          "name": "stdout"
        },
        {
          "output_type": "display_data",
          "data": {
            "image/png": "[encoded data removed]",
            "text/plain": [
              "<Figure size 432x288 with 2 Axes>"
            ]
          },
          "metadata": {
            "tags": [],
            "needs_background": "light"
          }
        }
      ]
    },
    {
      "cell_type": "markdown",
      "metadata": {
        "id": "u9uK-6y_dHEV"
      },
      "source": [
        "Model No. 4 Gaussian Naive Bayes Model"
      ]
    },
    {
      "cell_type": "code",
      "metadata": {
        "colab": {
          "base_uri": "https://localhost:8080/"
        },
        "id": "aIFbqqqodF_X",
        "outputId": "f5fef6d6-ca77-4479-bd34-af1d248be57a"
      },
      "source": [
        "print(metrics.confusion_matrix(yb_test,gnb_predictions))"
      ],
      "execution_count": null,
      "outputs": [
        {
          "output_type": "stream",
          "text": [
            "[[19  0  0]\n",
            " [ 0 21  0]\n",
            " [ 0  0 14]]\n"
          ],
          "name": "stdout"
        }
      ]
    },
    {
      "cell_type": "code",
      "metadata": {
        "colab": {
          "base_uri": "https://localhost:8080/",
          "height": 316
        },
        "id": "txh40hGrdVx9",
        "outputId": "369c57e3-cf8f-4c1f-8224-fffee04c4c8a"
      },
      "source": [
        "print(\"\\t Confusion Matrix for Gaussian Naive Bayes Classifier \\n\")\n",
        "disp = plot_confusion_matrix(gaussian_model, Xb_test, yb_test,display_labels=class_names, cmap=plt.cm.Blues)\n",
        "plt.show()"
      ],
      "execution_count": null,
      "outputs": [
        {
          "output_type": "stream",
          "text": [
            "\t Confusion Matrix for Gaussian Naive Bayes Classifier \n",
            "\n"
          ],
          "name": "stdout"
        },
        {
          "output_type": "display_data",
          "data": {
            "image/png": "[encoded data removed]",
            "text/plain": [
              "<Figure size 432x288 with 2 Axes>"
            ]
          },
          "metadata": {
            "tags": [],
            "needs_background": "light"
          }
        }
      ]
    },
    {
      "cell_type": "markdown",
      "metadata": {
        "id": "TQQU32tEdkKY"
      },
      "source": [
        "## 4. Ensemble Learning [32 points]: Analyze the effects of using different types of ensembles for the classification task.\n"
      ]
    },
    {
      "cell_type": "markdown",
      "metadata": {
        "id": "c4Q7qm7Odpgh"
      },
      "source": [
        "**a) Evaluate each of the following classifiers using 3-fold cross validation(Code)**\n",
        "*  Majority vote classifier that uses the four classifiers from part 3 of this assignment\n",
        "* Bagging method\n",
        "* Boosting method"
      ]
    },
    {
      "cell_type": "code",
      "metadata": {
        "colab": {
          "base_uri": "https://localhost:8080/"
        },
        "id": "6uh20WbId523",
        "outputId": "1ec45501-9079-4e71-8b21-aaf621267c99"
      },
      "source": [
        "# Ensemble learning\n",
        "\n",
        "# 1. Majority vote ensemble learner\n",
        "\n",
        "from sklearn.ensemble import VotingClassifier\n",
        "\n",
        "voting_classifier = VotingClassifier(estimators=[('gnb', gaussian_model), ('dt', tree_gini),('svm',ovr_clf),('knn',knn)], voting='hard')\n",
        "voting_classifier.fit(Xb_train, yb_train)"
      ],
      "execution_count": null,
      "outputs": [
        {
          "output_type": "execute_result",
          "data": {
            "text/plain": [
              "VotingClassifier(estimators=[('gnb',\n",
              "                              GaussianNB(priors=None, var_smoothing=1e-09)),\n",
              "                             ('dt',\n",
              "                              DecisionTreeClassifier(ccp_alpha=0.0,\n",
              "                                                     class_weight=None,\n",
              "                                                     criterion='gini',\n",
              "                                                     max_depth=3,\n",
              "                                                     max_features=None,\n",
              "                                                     max_leaf_nodes=None,\n",
              "                                                     min_impurity_decrease=0.0,\n",
              "                                                     min_impurity_split=None,\n",
              "                                                     min_samples_leaf=1,\n",
              "                                                     min_samples_split=2,\n",
              "                                                     min_weight_fraction_leaf=0.0,\n",
              "                                                     presort='deprecated',\n",
              "                                                     ra...\n",
              "                                                                decision_function_shape='ovr',\n",
              "                                                                degree=2,\n",
              "                                                                gamma=0.001,\n",
              "                                                                kernel='poly',\n",
              "                                                                max_iter=-1,\n",
              "                                                                probability=False,\n",
              "                                                                random_state=None,\n",
              "                                                                shrinking=True,\n",
              "                                                                tol=0.001,\n",
              "                                                                verbose=False),\n",
              "                                                  n_jobs=None)),\n",
              "                             ('knn',\n",
              "                              KNeighborsClassifier(algorithm='auto',\n",
              "                                                   leaf_size=30,\n",
              "                                                   metric='minkowski',\n",
              "                                                   metric_params=None,\n",
              "                                                   n_jobs=None, n_neighbors=8,\n",
              "                                                   p=1, weights='uniform'))],\n",
              "                 flatten_transform=True, n_jobs=None, voting='hard',\n",
              "                 weights=None)"
            ]
          },
          "metadata": {
            "tags": []
          },
          "execution_count": 120
        }
      ]
    },
    {
      "cell_type": "code",
      "metadata": {
        "id": "OwEWM8eRokFe"
      },
      "source": [
        "fold_accuracies = cross_val_score(voting_classifier, Xb_train, yb_train,cv=Kfold)\n",
        "voting_score = fold_accuracies.mean()"
      ],
      "execution_count": null,
      "outputs": []
    },
    {
      "cell_type": "code",
      "metadata": {
        "colab": {
          "base_uri": "https://localhost:8080/"
        },
        "id": "V_ElejG8rupe",
        "outputId": "51b6effc-dd8b-40c5-94ac-6c68754293bb"
      },
      "source": [
        "print(voting_score)"
      ],
      "execution_count": null,
      "outputs": [
        {
          "output_type": "stream",
          "text": [
            "0.9355400696864112\n"
          ],
          "name": "stdout"
        }
      ]
    },
    {
      "cell_type": "markdown",
      "metadata": {
        "id": "-SO8cQWIfeOR"
      },
      "source": [
        "**Bagging Method**"
      ]
    },
    {
      "cell_type": "code",
      "metadata": {
        "colab": {
          "base_uri": "https://localhost:8080/"
        },
        "id": "SKIdZu0VfghN",
        "outputId": "67fd39c9-192e-4af3-9f54-af4899359388"
      },
      "source": [
        "#2. Bagging ensemble\n",
        "\n",
        "from sklearn.ensemble import BaggingClassifier\n",
        "\n",
        "bagging = BaggingClassifier(ovr_clf)\n",
        "bagging.fit(Xb_train, yb_train)"
      ],
      "execution_count": null,
      "outputs": [
        {
          "output_type": "execute_result",
          "data": {
            "text/plain": [
              "BaggingClassifier(base_estimator=OneVsRestClassifier(estimator=SVC(C=7,\n",
              "                                                                   break_ties=False,\n",
              "                                                                   cache_size=200,\n",
              "                                                                   class_weight=None,\n",
              "                                                                   coef0=0.0,\n",
              "                                                                   decision_function_shape='ovr',\n",
              "                                                                   degree=4,\n",
              "                                                                   gamma=0.001,\n",
              "                                                                   kernel='poly',\n",
              "                                                                   max_iter=-1,\n",
              "                                                                   probability=False,\n",
              "                                                                   random_state=None,\n",
              "                                                                   shrinking=True,\n",
              "                                                                   tol=0.001,\n",
              "                                                                   verbose=False),\n",
              "                                                     n_jobs=None),\n",
              "                  bootstrap=True, bootstrap_features=False, max_features=1.0,\n",
              "                  max_samples=1.0, n_estimators=10, n_jobs=None,\n",
              "                  oob_score=False, random_state=None, verbose=0,\n",
              "                  warm_start=False)"
            ]
          },
          "metadata": {
            "tags": []
          },
          "execution_count": 98
        }
      ]
    },
    {
      "cell_type": "code",
      "metadata": {
        "id": "9poNuUild56P"
      },
      "source": [
        "fold_accuracies = cross_val_score(bagging, Xb_train, yb_train,cv=Kfold)\n",
        "bagging_score = fold_accuracies.mean()"
      ],
      "execution_count": null,
      "outputs": []
    },
    {
      "cell_type": "code",
      "metadata": {
        "colab": {
          "base_uri": "https://localhost:8080/"
        },
        "id": "oLXPdgyKd6G1",
        "outputId": "9f15b39a-746a-44ee-f6d2-f4222febd8e1"
      },
      "source": [
        "print(bagging_score)"
      ],
      "execution_count": null,
      "outputs": [
        {
          "output_type": "stream",
          "text": [
            "0.9353464963221061\n"
          ],
          "name": "stdout"
        }
      ]
    },
    {
      "cell_type": "markdown",
      "metadata": {
        "id": "wiNU-5GagdSZ"
      },
      "source": [
        "**Boosting Method**"
      ]
    },
    {
      "cell_type": "code",
      "metadata": {
        "colab": {
          "base_uri": "https://localhost:8080/"
        },
        "id": "xzfF5IbMgmb9",
        "outputId": "bf521c02-41c4-4d7c-d450-ddba3e38ff23"
      },
      "source": [
        "#3. Adaboost algorithm\n",
        "from sklearn.ensemble import AdaBoostClassifier\n",
        "\n",
        "adabooster = AdaBoostClassifier(n_estimators=50)\n",
        "adabooster.fit(Xb_train, yb_train)"
      ],
      "execution_count": null,
      "outputs": [
        {
          "output_type": "execute_result",
          "data": {
            "text/plain": [
              "AdaBoostClassifier(algorithm='SAMME.R', base_estimator=None, learning_rate=1.0,\n",
              "                   n_estimators=50, random_state=None)"
            ]
          },
          "metadata": {
            "tags": []
          },
          "execution_count": 103
        }
      ]
    },
    {
      "cell_type": "code",
      "metadata": {
        "id": "yjirGe11d6KZ"
      },
      "source": [
        "fold_accuracies = cross_val_score(adabooster, Xb_train, yb_train,cv=Kfold)\n",
        "boosting_score = fold_accuracies.mean()"
      ],
      "execution_count": null,
      "outputs": []
    },
    {
      "cell_type": "code",
      "metadata": {
        "colab": {
          "base_uri": "https://localhost:8080/"
        },
        "id": "S0w99vJVhaTt",
        "outputId": "48bfef11-d0dd-4d42-d40a-223879a17e07"
      },
      "source": [
        "print(boosting_score)"
      ],
      "execution_count": null,
      "outputs": [
        {
          "output_type": "stream",
          "text": [
            "0.9111498257839722\n"
          ],
          "name": "stdout"
        }
      ]
    },
    {
      "cell_type": "markdown",
      "metadata": {
        "id": "Z5e5lZNad0tT"
      },
      "source": [
        "b) Report in a table the mean precision, recall, and accuracy of each classifier you evaluated in the previous step for each dataset. (Write-up)"
      ]
    },
    {
      "cell_type": "code",
      "metadata": {
        "colab": {
          "base_uri": "https://localhost:8080/"
        },
        "id": "qetJNl_niVg4",
        "outputId": "6a06fd90-f44c-4b9c-d2e7-246663b3eac6"
      },
      "source": [
        "voting_predictions = voting_classifier.predict(Xb_test)\n",
        "\n",
        "\n",
        "print('The accuracy score for voting classifier is:',accuracy_score(yb_test,voting_predictions),'\\n')\n",
        "print('The precision score for voting classifier is: ',precision_score(yb_test,voting_predictions,average='weighted'),'\\n')\n",
        "print('The recall score for voting classifier is: ', recall_score(yb_test,voting_predictions,average='weighted'),'\\n')\n",
        "\n",
        "print('The classification report is: ')\n",
        "print('\\n',metrics.classification_report(yb_test, voting_predictions))"
      ],
      "execution_count": null,
      "outputs": [
        {
          "output_type": "stream",
          "text": [
            "The accuracy score for voting classifier is: 0.9629629629629629 \n",
            "\n",
            "The precision score for voting classifier is:  0.9638888888888888 \n",
            "\n",
            "The recall score for voting classifier is:  0.9629629629629629 \n",
            "\n",
            "The classification report is: \n",
            "\n",
            "               precision    recall  f1-score   support\n",
            "\n",
            "           0       0.95      1.00      0.97        19\n",
            "           1       0.95      0.95      0.95        21\n",
            "           2       1.00      0.93      0.96        14\n",
            "\n",
            "    accuracy                           0.96        54\n",
            "   macro avg       0.97      0.96      0.96        54\n",
            "weighted avg       0.96      0.96      0.96        54\n",
            "\n"
          ],
          "name": "stdout"
        }
      ]
    },
    {
      "cell_type": "code",
      "metadata": {
        "colab": {
          "base_uri": "https://localhost:8080/"
        },
        "id": "ZpnobEYhjkzf",
        "outputId": "53215973-4622-4eaf-8d4b-bcdfa8b84327"
      },
      "source": [
        "bagging_predictions = bagging.predict(Xb_test)\n",
        "\n",
        "\n",
        "print('The accuracy score for bagging classifier is:',accuracy_score(yb_test,bagging_predictions),'\\n')\n",
        "print('The precision score for bagging classifier is: ',precision_score(yb_test,bagging_predictions,average='weighted'),'\\n')\n",
        "print('The recall score for bagging classifier is: ', recall_score(yb_test,bagging_predictions,average='weighted'),'\\n')\n",
        "\n",
        "print('The classification report is: ')\n",
        "print('\\n',metrics.classification_report(yb_test, bagging_predictions))"
      ],
      "execution_count": null,
      "outputs": [
        {
          "output_type": "stream",
          "text": [
            "The accuracy score for bagging classifier is: 0.9629629629629629 \n",
            "\n",
            "The precision score for bagging classifier is:  0.9629629629629629 \n",
            "\n",
            "The recall score for bagging classifier is:  0.9629629629629629 \n",
            "\n",
            "The classification report is: \n",
            "\n",
            "               precision    recall  f1-score   support\n",
            "\n",
            "           0       0.95      0.95      0.95        19\n",
            "           1       0.95      0.95      0.95        21\n",
            "           2       1.00      1.00      1.00        14\n",
            "\n",
            "    accuracy                           0.96        54\n",
            "   macro avg       0.97      0.97      0.97        54\n",
            "weighted avg       0.96      0.96      0.96        54\n",
            "\n"
          ],
          "name": "stdout"
        }
      ]
    },
    {
      "cell_type": "code",
      "metadata": {
        "colab": {
          "base_uri": "https://localhost:8080/"
        },
        "id": "_6I4iOG1jv40",
        "outputId": "9bcf3b90-c361-4995-f092-267bddd3df77"
      },
      "source": [
        "boosting_predictions = adabooster.predict(Xb_test)\n",
        "\n",
        "print('The accuracy score for boosting classifier is:',accuracy_score(yb_test,boosting_predictions),'\\n')\n",
        "print('The precision score for boosting classifier is: ',precision_score(yb_test,boosting_predictions,average='weighted'),'\\n')\n",
        "print('The recall score for boosting classifier is: ', recall_score(yb_test,boosting_predictions,average='weighted'),'\\n')\n",
        "\n",
        "print('The classification report is: ')\n",
        "print('\\n',metrics.classification_report(yb_test, boosting_predictions))\n"
      ],
      "execution_count": null,
      "outputs": [
        {
          "output_type": "stream",
          "text": [
            "The accuracy score for boosting classifier is: 0.9259259259259259 \n",
            "\n",
            "The precision score for boosting classifier is:  0.931682769726248 \n",
            "\n",
            "The recall score for boosting classifier is:  0.9259259259259259 \n",
            "\n",
            "The classification report is: \n",
            "\n",
            "               precision    recall  f1-score   support\n",
            "\n",
            "           0       0.95      1.00      0.97        19\n",
            "           1       0.87      0.95      0.91        21\n",
            "           2       1.00      0.79      0.88        14\n",
            "\n",
            "    accuracy                           0.93        54\n",
            "   macro avg       0.94      0.91      0.92        54\n",
            "weighted avg       0.93      0.93      0.92        54\n",
            "\n"
          ],
          "name": "stdout"
        }
      ]
    },
    {
      "cell_type": "code",
      "metadata": {
        "id": "w8Bh9ocLlqdp"
      },
      "source": [
        "## End"
      ],
      "execution_count": null,
      "outputs": []
    }
  ]
}